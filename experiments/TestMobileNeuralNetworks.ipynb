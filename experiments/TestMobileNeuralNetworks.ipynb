{
 "cells": [
  {
   "cell_type": "code",
   "execution_count": 1,
   "metadata": {
    "collapsed": true
   },
   "outputs": [],
   "source": [
    "# NOTE: Only run this once to set the directory!!! This could probably be done better but oh well\n",
    "import os\n",
    "os.chdir(\"..\")"
   ]
  },
  {
   "cell_type": "code",
   "execution_count": 8,
   "outputs": [
    {
     "name": "stdout",
     "output_type": "stream",
     "text": [
      "Wrote results to test_outputs/mobile_normal/results_table.xlsx\n"
     ]
    }
   ],
   "source": [
    "# Run test for selected files\n",
    "%run test.py \\\n",
    "       --test-data-path \\\n",
    "       datasets/mobile \\\n",
    "       --model-path-list \\\n",
    "       output/mobile/neural_network/mobile/training_hd128_hc2_ne20_bs16_lr_0.0005 \\\n",
    "       --output-path test_outputs/mobile_normal"
   ],
   "metadata": {
    "collapsed": false,
    "pycharm": {
     "name": "#%%\n"
    }
   }
  },
  {
   "cell_type": "code",
   "execution_count": 9,
   "outputs": [
    {
     "name": "stdout",
     "output_type": "stream",
     "text": [
      "Wrote results to test_outputs/mobile_kmeans/results_table.xlsx\n"
     ]
    }
   ],
   "source": [
    "# Run test for selected files\n",
    "%run test.py \\\n",
    "       --test-data-path \\\n",
    "       datasets/mobile_KMeans_n_clusters_2max_iter_10000tol_1e-08n_init_50 \\\n",
    "       --model-path-list \\\n",
    "       output/mobile_KMeans_n_clusters_2max_iter_10000tol_1e-08n_init_50/neural_network/mobile_KMeans_n_clusters_2max_iter_10000tol_1e-08n_init_50/training_hd16_hc3_ne20_bs128_lr_0.005 \\\n",
    "       --output-path test_outputs/mobile_kmeans"
   ],
   "metadata": {
    "collapsed": false,
    "pycharm": {
     "name": "#%%\n"
    }
   }
  },
  {
   "cell_type": "code",
   "execution_count": 10,
   "outputs": [
    {
     "name": "stdout",
     "output_type": "stream",
     "text": [
      "Wrote results to test_outputs/mobile_em/results_table.xlsx\n"
     ]
    }
   ],
   "source": [
    "# Run test for selected files\n",
    "%run test.py \\\n",
    "       --test-data-path \\\n",
    "       datasets/mobile_GaussianMixture_n_components_7covariance_type_diag \\\n",
    "       --model-path-list \\\n",
    "       output/mobile_GaussianMixture_n_components_7covariance_type_diag/neural_network/mobile_GaussianMixture_n_components_7covariance_type_diag/training_hd16_hc3_ne20_bs16_lr_0.005 \\\n",
    "       --output-path test_outputs/mobile_em"
   ],
   "metadata": {
    "collapsed": false,
    "pycharm": {
     "name": "#%%\n"
    }
   }
  },
  {
   "cell_type": "code",
   "execution_count": 11,
   "outputs": [
    {
     "name": "stdout",
     "output_type": "stream",
     "text": [
      "Wrote results to test_outputs/mobile_pca/results_table.xlsx\n"
     ]
    }
   ],
   "source": [
    "# Run test for selected files\n",
    "%run test.py \\\n",
    "       --test-data-path \\\n",
    "       datasets/mobile_PCA_n_components_4 \\\n",
    "       --model-path-list \\\n",
    "       output/mobile_PCA_n_components_4/neural_network/mobile_PCA_n_components_4/training_hd32_hc3_ne20_bs64_lr_0.0005 \\\n",
    "       --output-path test_outputs/mobile_pca"
   ],
   "metadata": {
    "collapsed": false,
    "pycharm": {
     "name": "#%%\n"
    }
   }
  },
  {
   "cell_type": "code",
   "execution_count": 12,
   "outputs": [
    {
     "name": "stdout",
     "output_type": "stream",
     "text": [
      "Wrote results to test_outputs/mobile_ica/results_table.xlsx\n"
     ]
    }
   ],
   "source": [
    "# Run test for selected files\n",
    "%run test.py \\\n",
    "       --test-data-path \\\n",
    "       datasets/mobile_ICA_n_components_4 \\\n",
    "       --model-path-list \\\n",
    "       output/mobile_ICA_n_components_4/neural_network/mobile_ICA_n_components_4/training_hd16_hc2_ne20_bs128_lr_0.001 \\\n",
    "       --output-path test_outputs/mobile_ica"
   ],
   "metadata": {
    "collapsed": false,
    "pycharm": {
     "name": "#%%\n"
    }
   }
  },
  {
   "cell_type": "code",
   "execution_count": 13,
   "outputs": [
    {
     "name": "stdout",
     "output_type": "stream",
     "text": [
      "Wrote results to test_outputs/mobile_rp/results_table.xlsx\n"
     ]
    }
   ],
   "source": [
    "# Run test for selected files\n",
    "%run test.py \\\n",
    "       --test-data-path \\\n",
    "       datasets/mobile_RP_n_components_3 \\\n",
    "       --model-path-list \\\n",
    "       output/mobile_RP_n_components_3/neural_network/mobile_RP_n_components_3/training_hd32_hc5_ne20_bs16_lr_0.005 \\\n",
    "       --output-path test_outputs/mobile_rp"
   ],
   "metadata": {
    "collapsed": false,
    "pycharm": {
     "name": "#%%\n"
    }
   }
  },
  {
   "cell_type": "code",
   "execution_count": 14,
   "outputs": [
    {
     "name": "stdout",
     "output_type": "stream",
     "text": [
      "Wrote results to test_outputs/mobile_dt/results_table.xlsx\n"
     ]
    }
   ],
   "source": [
    "# Run test for selected files\n",
    "%run test.py \\\n",
    "       --test-data-path \\\n",
    "       datasets/mobile_DT_n_estimators_100_20_0.95 \\\n",
    "       --model-path-list \\\n",
    "       output/mobile_DT_n_estimators_100_20_0.95/neural_network/mobile_DT_n_estimators_100_20_0.95/training_hd32_hc2_ne20_bs32_lr_0.001 \\\n",
    "       --output-path test_outputs/mobile_dt"
   ],
   "metadata": {
    "collapsed": false,
    "pycharm": {
     "name": "#%%\n"
    }
   }
  }
 ],
 "metadata": {
  "kernelspec": {
   "display_name": "Python 3",
   "language": "python",
   "name": "python3"
  },
  "language_info": {
   "codemirror_mode": {
    "name": "ipython",
    "version": 2
   },
   "file_extension": ".py",
   "mimetype": "text/x-python",
   "name": "python",
   "nbconvert_exporter": "python",
   "pygments_lexer": "ipython2",
   "version": "2.7.6"
  }
 },
 "nbformat": 4,
 "nbformat_minor": 0
}